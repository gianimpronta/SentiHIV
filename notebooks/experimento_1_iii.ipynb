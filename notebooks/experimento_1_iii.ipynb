{
 "cells": [
  {
   "cell_type": "code",
   "execution_count": 1,
   "metadata": {
    "pycharm": {
     "is_executing": false
    }
   },
   "outputs": [
    {
     "name": "stderr",
     "output_type": "stream",
     "text": [
      "[nltk_data] Downloading package stopwords to\n",
      "[nltk_data]     C:\\Users\\Gianpaolo\\AppData\\Roaming\\nltk_data...\n",
      "[nltk_data]   Package stopwords is already up-to-date!\n",
      "Downloading https://raw.githubusercontent.com/stanfordnlp/stanza-resources/master/resources_1.1.0.json: 122kB [00:00, 40.6MB/s]                    \n",
      "2020-11-17 01:31:37 INFO: Downloading default packages for language: pt (Portuguese)...\n",
      "2020-11-17 01:31:37 INFO: File exists: C:\\Users\\Gianpaolo\\stanza_resources\\pt\\default.zip.\n",
      "2020-11-17 01:31:40 INFO: Finished downloading models and saved to C:\\Users\\Gianpaolo\\stanza_resources.\n"
     ]
    }
   ],
   "source": [
    "import re\n",
    "\n",
    "import nltk\n",
    "from sklearn.model_selection import train_test_split\n",
    "nltk.download('stopwords')\n",
    "import pandas as pd\n",
    "import matplotlib.pyplot as plt\n",
    "import seaborn as sns\n",
    "import stanza\n",
    "stanza.download('pt')\n",
    "\n",
    "from nltk.corpus import stopwords\n",
    "from sklearn.feature_extraction.text import TfidfVectorizer\n",
    "from sklearn.svm import LinearSVC\n",
    "from sklearn.metrics import confusion_matrix, classification_report\n",
    "from sklearn.utils import resample, shuffle"
   ]
  },
  {
   "cell_type": "code",
   "execution_count": 2,
   "metadata": {
    "pycharm": {
     "is_executing": true,
     "name": "#%%\n"
    }
   },
   "outputs": [],
   "source": [
    "def read():\n",
    "    df = pd.read_csv('dataset/Big PT Tweets/NoThemeTweets.csv', index_col='id')\n",
    "    pos = df[df.sentiment == \"Positivo\"]\n",
    "    neg = df[df.sentiment == \"Negativo\"]\n",
    "    pos_res = resample(pos, n_samples=10000)\n",
    "    neg_res = resample(neg, n_samples=10000)\n",
    "    df2 = shuffle(pd.concat([pos_res, neg_res]))\n",
    "    \n",
    "    return train_test_split(df2, test_size=0.2, random_state=123)\n",
    "\n",
    "def remove_urls(text):\n",
    "    url_remover = re.compile(r'https?://\\S+|www\\.\\S+')\n",
    "    return url_remover.sub(r'', text)   \n",
    "    \n",
    "def remove_html(text):\n",
    "    html_remover=re.compile(r'<.*?>')\n",
    "    return html_remover.sub(r'',text)\n",
    "\n",
    "def remove_mentions(text):\n",
    "    mention_remover=re.compile(r'@\\w+')\n",
    "    return mention_remover.sub(r'',text)\n",
    "\n",
    "def remove_numbers(text):\n",
    "    number_remover=re.compile(r'\\d+')\n",
    "    return number_remover.sub(r'',text)\n",
    "\n",
    "def remove_hashtags(text):\n",
    "    number_remover=re.compile(r'#\\w+')\n",
    "    return number_remover.sub(r'',text)\n",
    "\n",
    "def remove_punctuation(text):\n",
    "    punct_remover=re.compile(r'[^\\w\\s\\d]+')\n",
    "    return punct_remover.sub(r'',text)\n",
    "\n",
    "def remove_excessive_whitespace(text):\n",
    "    ws_remover=re.compile(r'\\s+')\n",
    "    return ws_remover.sub(r' ', str(text)).strip()\n",
    "\n",
    "def remove_stopwords(text, stop_words):\n",
    "    return \" \".join([word for word in text.split(\" \") if word not in stop_words]) \n",
    "    \n",
    "def lowering(text):\n",
    "    return text.lower()\n",
    "\n",
    "def lemmatization(text, nlp):\n",
    "    doc = nlp(text)\n",
    "    return ' '.join([f'{word.lemma}' for sent in doc.sentences for word in \\\n",
    "            sent.words])\n",
    "\n",
    "def clean(df):\n",
    "    stop_words = set(stopwords.words('portuguese'))\n",
    "    df = df.loc[:,[\"tweet_text\", \"sentiment\"]]\n",
    "    scores = {\n",
    "        \"Positivo\":1,\n",
    "        \"Negativo\":0\n",
    "    }\n",
    "    df[\"score\"] = df.sentiment.apply(lambda x: scores[x])\n",
    "    \n",
    "    df[\"text\"] = df.tweet_text       \n",
    "    df[\"text\"] = df.text.apply(lambda x: remove_urls(x))\n",
    "    df[\"text\"] = df.text.apply(lambda x: remove_mentions(x))\n",
    "    df[\"text\"] = df.text.apply(lambda x: remove_html(x))\n",
    "    df[\"text\"] = df.text.apply(lambda x: remove_numbers(x))\n",
    "    df[\"text\"] = df.text.apply(lambda x: remove_hashtags(x))\n",
    "    df[\"text\"] = df.text.apply(lambda x: remove_punctuation(x))\n",
    "    df[\"text\"] = df.text.apply(lambda x: remove_excessive_whitespace(x))\n",
    "    df[\"text\"] = df.text.apply(lambda x: remove_stopwords(x, stop_words))\n",
    "    df[\"text\"] = df.text.apply(lambda x: lowering(x))\n",
    "    # Removing messages that are too short.\n",
    "    df = df[df.text.apply(lambda x: len(x.split(\" \")) > 2)]\n",
    "    \n",
    "    nlp = stanza.Pipeline(lang='pt', processors='tokenize,mwt,pos,lemma', use_gpu=True)\n",
    "    \n",
    "    df[\"text\"] = df.text.apply(lambda x: lemmatization(x, nlp))\n",
    "    \n",
    "    \n",
    "    return df\n",
    "\n",
    "def cleaning():\n",
    "    df_train, df_test = read()\n",
    "    df_train = clean(df_train)\n",
    "    df_test = clean(df_test)\n",
    "    \n",
    "    return df_train, df_test"
   ]
  },
  {
   "cell_type": "code",
   "execution_count": 3,
   "metadata": {
    "pycharm": {
     "is_executing": true,
     "name": "#%%\n"
    }
   },
   "outputs": [
    {
     "name": "stderr",
     "output_type": "stream",
     "text": [
      "2020-11-17 01:31:43 INFO: Loading these models for language: pt (Portuguese):\n",
      "=======================\n",
      "| Processor | Package |\n",
      "-----------------------\n",
      "| tokenize  | bosque  |\n",
      "| mwt       | bosque  |\n",
      "| pos       | bosque  |\n",
      "| lemma     | bosque  |\n",
      "=======================\n",
      "\n",
      "2020-11-17 01:31:43 INFO: Use device: cpu\n",
      "2020-11-17 01:31:43 INFO: Loading: tokenize\n",
      "2020-11-17 01:31:43 INFO: Loading: mwt\n",
      "2020-11-17 01:31:43 INFO: Loading: pos\n",
      "2020-11-17 01:31:44 INFO: Loading: lemma\n",
      "2020-11-17 01:31:44 INFO: Done loading processors!\n",
      "2020-11-17 01:45:39 INFO: Loading these models for language: pt (Portuguese):\n",
      "=======================\n",
      "| Processor | Package |\n",
      "-----------------------\n",
      "| tokenize  | bosque  |\n",
      "| mwt       | bosque  |\n",
      "| pos       | bosque  |\n",
      "| lemma     | bosque  |\n",
      "=======================\n",
      "\n",
      "2020-11-17 01:45:39 INFO: Use device: cpu\n",
      "2020-11-17 01:45:39 INFO: Loading: tokenize\n",
      "2020-11-17 01:45:39 INFO: Loading: mwt\n",
      "2020-11-17 01:45:39 INFO: Loading: pos\n",
      "2020-11-17 01:45:40 INFO: Loading: lemma\n",
      "2020-11-17 01:45:40 INFO: Done loading processors!\n"
     ]
    }
   ],
   "source": [
    "df_train, df_test = cleaning()"
   ]
  },
  {
   "cell_type": "code",
   "execution_count": 4,
   "metadata": {
    "pycharm": {
     "is_executing": false,
     "name": "#%%\n"
    }
   },
   "outputs": [],
   "source": [
    "# Este é o algoritmo utilizado para vetorizar os textos dos tweets\n",
    "# Precisa ser o mesmo tanto no df de treino quanto no df de teste\n",
    "tfidf_fitter = TfidfVectorizer(\n",
    "    sublinear_tf=True, \n",
    "    min_df=5\n",
    ").fit(df_train.text)\n",
    "X_train = tfidf_fitter.transform(df_train.text)\n",
    "y_train = df_train.score\n",
    "X_test = tfidf_fitter.transform(df_test.text)\n",
    "y_test = df_test.score"
   ]
  },
  {
   "cell_type": "code",
   "execution_count": 5,
   "metadata": {
    "pycharm": {
     "is_executing": false,
     "name": "#%%\n"
    }
   },
   "outputs": [
    {
     "name": "stdout",
     "output_type": "stream",
     "text": [
      "[LibLinear]"
     ]
    }
   ],
   "source": [
    "model =  LinearSVC(verbose=1, max_iter=500, \n",
    "                   penalty='l1', loss='squared_hinge',\n",
    "                   dual=False)\n",
    "model.fit(X_train, y_train)\n",
    "y_pred = model.predict(X_test)"
   ]
  },
  {
   "cell_type": "code",
   "execution_count": 6,
   "metadata": {
    "pycharm": {
     "is_executing": false,
     "name": "#%%\n"
    }
   },
   "outputs": [
    {
     "name": "stdout",
     "output_type": "stream",
     "text": [
      "CLASSIFICATION METRICS\n",
      "\n",
      "              precision    recall  f1-score   support\n",
      "\n",
      "    Negativo       0.73      0.68      0.70      1579\n",
      "    Positivo       0.72      0.77      0.74      1677\n",
      "\n",
      "    accuracy                           0.72      3256\n",
      "   macro avg       0.72      0.72      0.72      3256\n",
      "weighted avg       0.72      0.72      0.72      3256\n",
      "\n"
     ]
    },
    {
     "data": {
      "image/png": "[encoded data removed]",
      "text/plain": [
       "<Figure size 576x576 with 2 Axes>"
      ]
     },
     "metadata": {
      "needs_background": "light"
     },
     "output_type": "display_data"
    }
   ],
   "source": [
    "print('CLASSIFICATION METRICS\\n')\n",
    "print(classification_report(\n",
    "    y_test, \n",
    "    y_pred,\n",
    "    target_names=['Negativo','Positivo']\n",
    "))\n",
    "\n",
    "conf_mat = confusion_matrix(y_test, y_pred)\n",
    "fig, ax = plt.subplots(figsize=(8,8))\n",
    "sns.heatmap(conf_mat, annot=True, cmap=\"Blues\", fmt='d',\n",
    "            xticklabels=['Negativo','Positivo'], \n",
    "            yticklabels=['Negativo','Positivo']\n",
    "            )\n",
    "plt.ylabel('Actual')\n",
    "plt.xlabel('Predicted')\n",
    "plt.title(\"CONFUSION MATRIX - LinearSVC\\n\", size=16);"
   ]
  },
  {
   "cell_type": "code",
   "execution_count": null,
   "metadata": {
    "pycharm": {
     "name": "#%%\n"
    }
   },
   "outputs": [],
   "source": []
  }
 ],
 "metadata": {
  "kernelspec": {
   "display_name": "Python 3",
   "language": "python",
   "name": "python3"
  },
  "language_info": {
   "codemirror_mode": {
    "name": "ipython",
    "version": 3
   },
   "file_extension": ".py",
   "mimetype": "text/x-python",
   "name": "python",
   "nbconvert_exporter": "python",
   "pygments_lexer": "ipython3",
   "version": "3.7.9"
  },
  "pycharm": {
   "stem_cell": {
    "cell_type": "raw",
    "metadata": {
     "collapsed": false
    },
    "source": []
   }
  }
 },
 "nbformat": 4,
 "nbformat_minor": 1
}
