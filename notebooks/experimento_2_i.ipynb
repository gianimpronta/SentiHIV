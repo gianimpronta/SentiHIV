{
 "cells": [
  {
   "cell_type": "code",
   "execution_count": 1,
   "metadata": {},
   "outputs": [
    {
     "name": "stderr",
     "output_type": "stream",
     "text": [
      "[nltk_data] Downloading package stopwords to\n",
      "[nltk_data]     C:\\Users\\Gianpaolo\\AppData\\Roaming\\nltk_data...\n",
      "[nltk_data]   Package stopwords is already up-to-date!\n",
      "Downloading https://raw.githubusercontent.com/stanfordnlp/stanza-resources/master/resources_1.1.0.json: 122kB [00:00, 40.3MB/s]                    \n",
      "2020-11-17 15:54:57 INFO: Downloading default packages for language: en (English)...\n",
      "2020-11-17 15:54:57 INFO: File exists: C:\\Users\\Gianpaolo\\stanza_resources\\en\\default.zip.\n",
      "2020-11-17 15:55:03 INFO: Finished downloading models and saved to C:\\Users\\Gianpaolo\\stanza_resources.\n"
     ]
    }
   ],
   "source": [
    "from __future__ import (\n",
    "    absolute_import, absolute_import, division, division,\n",
    "    print_function, print_function\n",
    ")\n",
    "\n",
    "import re\n",
    "\n",
    "import nltk\n",
    "nltk.download('stopwords')\n",
    "import stanza\n",
    "stanza.download('en')\n",
    "\n",
    "import pandas as pd\n",
    "\n",
    "from nltk.corpus import stopwords\n",
    "\n",
    "import tensorflow as tf\n",
    "from sklearn.feature_extraction.text import TfidfVectorizer\n",
    "from sklearn.feature_selection import f_classif, SelectKBest\n",
    "from tensorflow.python.keras import models\n",
    "from tensorflow.python.keras.layers import Dense, Dropout\n",
    "\n",
    "\n",
    "FLAGS = None\n",
    "NGRAM_RANGE = (1, 2)\n",
    "TOP_K = 20000\n",
    "TOKEN_MODE = 'word'\n",
    "MIN_DOCUMENT_FREQUENCY = 2\n",
    "MAX_SEQUENCE_LENGTH = 500"
   ]
  },
  {
   "cell_type": "code",
   "execution_count": 2,
   "metadata": {
    "pycharm": {
     "name": "#%%\n"
    }
   },
   "outputs": [],
   "source": [
    "def read():\n",
    "    return pd.read_csv(\"dataset/Corona_NLP_train.csv\"), \\\n",
    "           pd.read_csv(\"dataset/Corona_NLP_test.csv\")\n",
    "\n",
    "def remove_urls(text):\n",
    "    url_remover = re.compile(r'https?://\\S+|www\\.\\S+')\n",
    "    return url_remover.sub(r'', text)\n",
    "\n",
    "def remove_html(text):\n",
    "    html_remover=re.compile(r'<.*?>')\n",
    "    return html_remover.sub(r'',text)\n",
    "\n",
    "def remove_mentions(text):\n",
    "    mention_remover=re.compile(r'@\\w+')\n",
    "    return mention_remover.sub(r'',text)\n",
    "\n",
    "def remove_numbers(text):\n",
    "    number_remover=re.compile(r'\\d+')\n",
    "    return number_remover.sub(r'',text)\n",
    "\n",
    "def remove_hashtags(text):\n",
    "    number_remover=re.compile(r'#\\w+')\n",
    "    return number_remover.sub(r'',text)\n",
    "\n",
    "def remove_punctuation(text):\n",
    "    punct_remover=re.compile(r'[^\\w\\s\\d]+')\n",
    "    return punct_remover.sub(r'',text)\n",
    "\n",
    "def remove_excessive_whitespace(text):\n",
    "    ws_remover=re.compile(r'\\s+')\n",
    "    return ws_remover.sub(r' ', str(text)).strip()\n",
    "\n",
    "def remove_stopwords(text):\n",
    "    stop_words = set(stopwords.words(\"english\"))\n",
    "\n",
    "    return \" \".join([word for word in text.split(\" \") if word not in stop_words])\n",
    "\n",
    "def lowering(text):\n",
    "    return text.lower()\n",
    "\n",
    "def lemmatization(text, nlp):\n",
    "    doc = nlp(text)\n",
    "    return ' '.join([f'{word.lemma}' for sent in doc.sentences for word in \\\n",
    "            sent.words])\n",
    "    \n",
    "def clean(df):\n",
    "    df = df.loc[:,[\"OriginalTweet\", \"Sentiment\"]]\n",
    "    scores = {\n",
    "        'Neutral': 1,\n",
    "        'Extremely Negative':0,\n",
    "        'Negative':0,\n",
    "        'Positive':2,\n",
    "        'Extremely Positive':2\n",
    "    }\n",
    "\n",
    "    df[\"score\"] = df.Sentiment.apply(lambda x: scores[x])\n",
    "    df[\"score\"] = df.score.apply(lambda x: score_normalize(x))\n",
    "    \n",
    "    df.drop(\"Sentiment\", inplace=True, axis=1)\n",
    "\n",
    "    df[\"text\"] = df.OriginalTweet\n",
    "    df[\"text\"] = df.text.apply(lambda x: remove_urls(x))\n",
    "    df[\"text\"] = df.text.apply(lambda x: remove_mentions(x))\n",
    "    df[\"text\"] = df.text.apply(lambda x: remove_html(x))\n",
    "    df[\"text\"] = df.text.apply(lambda x: remove_numbers(x))\n",
    "    df[\"text\"] = df.text.apply(lambda x: remove_hashtags(x))\n",
    "    df[\"text\"] = df.text.apply(lambda x: remove_punctuation(x))\n",
    "    df[\"text\"] = df.text.apply(lambda x: remove_excessive_whitespace(x))\n",
    "    df[\"text\"] = df.text.apply(lambda x: remove_stopwords(x))\n",
    "    df[\"text\"] = df.text.apply(lambda x: lowering(x))\n",
    "\n",
    "    df = df[df.text.apply(lambda x: len(x.split(\" \")) > 2)]\n",
    "\n",
    "    nlp = stanza.Pipeline(lang='en', processors='tokenize,pos,lemma', use_gpu=True)\n",
    "    df[\"text\"] = df.text.apply(lambda x: lemmatization(x, nlp))\n",
    "\n",
    "    return df\n",
    "\n",
    "def cleaning():\n",
    "    df_train, df_test = read()\n",
    "    df_train = clean(df_train)\n",
    "    df_test = clean(df_test)\n",
    "\n",
    "    return df_train, df_test\n",
    "\n"
   ]
  },
  {
   "cell_type": "code",
   "execution_count": 13,
   "metadata": {
    "pycharm": {
     "name": "#%%\n"
    }
   },
   "outputs": [],
   "source": [
    "def ngram_vectorize(train_texts, train_labels, val_texts):    \n",
    "    kwargs = {\n",
    "        'ngram_range': NGRAM_RANGE,  # Use 1-grams + 2-grams.\n",
    "        'dtype': 'int32',\n",
    "        'strip_accents': 'unicode',\n",
    "        'decode_error': 'replace',\n",
    "        'analyzer': TOKEN_MODE,  # Split text into word tokens.\n",
    "        'min_df': MIN_DOCUMENT_FREQUENCY,\n",
    "    }\n",
    "    vectorizer = TfidfVectorizer(**kwargs)    \n",
    "    x_train = vectorizer.fit_transform(train_texts)\n",
    "    x_val = vectorizer.transform(val_texts)\n",
    "\n",
    "    selector = SelectKBest(f_classif, k=min(TOP_K, x_train.shape[1]))\n",
    "    selector.fit(x_train, train_labels)\n",
    "    x_train = selector.transform(x_train)\n",
    "    x_val = selector.transform(x_val)\n",
    "\n",
    "    x_train = x_train.astype('float32')\n",
    "    x_val = x_val.astype('float32')\n",
    "    return x_train, x_val\n",
    "\n",
    "\n",
    "def mlp_model(layers, units, dropout_rate, input_shape, num_classes):\n",
    "    op_units, op_activation = _get_last_layer_units_and_activation(num_classes)\n",
    "    model = models.Sequential()\n",
    "    model.add(Dropout(rate=dropout_rate, input_shape=input_shape))\n",
    "\n",
    "    for _ in range(layers - 1):\n",
    "        model.add(Dense(units=units, activation='relu'))\n",
    "        model.add(Dropout(rate=dropout_rate))\n",
    "\n",
    "    model.add(Dense(units=op_units, activation=op_activation))\n",
    "    return model\n",
    "\n",
    "\n",
    "def _get_last_layer_units_and_activation(num_classes):\n",
    "    if num_classes == 2:\n",
    "        activation = 'sigmoid'\n",
    "        units = 1\n",
    "    else:\n",
    "        activation = 'softmax'\n",
    "        units = num_classes\n",
    "    return units, activation\n",
    "\n",
    "\n",
    "def train_ngram_model(data,\n",
    "                      learning_rate=1e-3,\n",
    "                      epochs=1000,\n",
    "                      batch_size=128,\n",
    "                      layers=2,\n",
    "                      units=64,\n",
    "                      dropout_rate=0.2):\n",
    "    # Get the data.\n",
    "    (train_texts, train_labels), (val_texts, val_labels) = data\n",
    "\n",
    "    # Verify that validation labels are in the same range as training labels.\n",
    "    num_classes = 3\n",
    "    unexpected_labels = [v for v in val_labels if v not in range(num_classes)]\n",
    "    if len(unexpected_labels):\n",
    "        raise ValueError('Unexpected label values found in the validation set:'\n",
    "                         ' {unexpected_labels}. Please make sure that the '\n",
    "                         'labels in the validation set are in the same range '\n",
    "                         'as training labels.'.format(\n",
    "            unexpected_labels=unexpected_labels))\n",
    "\n",
    "    # Vectorize texts.\n",
    "    x_train, x_val = ngram_vectorize(train_texts, train_labels, val_texts)\n",
    "\n",
    "    # Create model instance.\n",
    "    model = mlp_model(layers=layers,\n",
    "                      units=units,\n",
    "                      dropout_rate=dropout_rate,\n",
    "                      input_shape=x_train.shape[1:],\n",
    "                      num_classes=num_classes)\n",
    "\n",
    "    # Compile model with learning parameters.\n",
    "    if num_classes == 2:\n",
    "        loss = 'binary_crossentropy'\n",
    "    else:\n",
    "        loss = 'sparse_categorical_crossentropy'\n",
    "    optimizer = tf.keras.optimizers.Adam(lr=learning_rate)\n",
    "    model.compile(optimizer=optimizer, loss=loss, metrics=['acc'])\n",
    "\n",
    "    # Create callback for early stopping on validation loss. If the loss does\n",
    "    # not decrease in two consecutive tries, stop training.\n",
    "    callbacks = [tf.keras.callbacks.EarlyStopping(\n",
    "        monitor='val_loss', patience=2)]\n",
    "\n",
    "    # Train and validate model.\n",
    "    history = model.fit(\n",
    "        x_train.toarray(),\n",
    "        train_labels,\n",
    "        epochs=epochs,\n",
    "        callbacks=callbacks,\n",
    "        validation_data=(x_val.toarray(), val_labels),\n",
    "        verbose=2,  # Logs once per epoch.\n",
    "        batch_size=batch_size)\n",
    "\n",
    "    # Print results.\n",
    "    history = history.history\n",
    "    print('Validation accuracy: {acc}, loss: {loss}'.format(\n",
    "        acc=history['val_acc'][-1], loss=history['val_loss'][-1]))\n",
    "\n",
    "    # Save model.\n",
    "    model.save('experimento_2_i_mlp_model.h5')\n",
    "    return history['val_acc'][-1], history['val_loss'][-1]"
   ]
  },
  {
   "cell_type": "code",
   "execution_count": 4,
   "metadata": {},
   "outputs": [
    {
     "name": "stderr",
     "output_type": "stream",
     "text": [
      "2020-11-17 15:56:34 INFO: Loading these models for language: en (English):\n",
      "=======================\n",
      "| Processor | Package |\n",
      "-----------------------\n",
      "| tokenize  | ewt     |\n",
      "| pos       | ewt     |\n",
      "| lemma     | ewt     |\n",
      "=======================\n",
      "\n",
      "2020-11-17 15:56:34 INFO: Use device: cpu\n",
      "2020-11-17 15:56:34 INFO: Loading: tokenize\n",
      "2020-11-17 15:56:34 INFO: Loading: pos\n",
      "2020-11-17 15:56:35 INFO: Loading: lemma\n",
      "2020-11-17 15:56:35 INFO: Done loading processors!\n",
      "2020-11-17 16:57:26 INFO: Loading these models for language: en (English):\n",
      "=======================\n",
      "| Processor | Package |\n",
      "-----------------------\n",
      "| tokenize  | ewt     |\n",
      "| pos       | ewt     |\n",
      "| lemma     | ewt     |\n",
      "=======================\n",
      "\n",
      "2020-11-17 16:57:26 INFO: Use device: cpu\n",
      "2020-11-17 16:57:26 INFO: Loading: tokenize\n",
      "2020-11-17 16:57:26 INFO: Loading: pos\n",
      "2020-11-17 16:57:27 INFO: Loading: lemma\n",
      "2020-11-17 16:57:27 INFO: Done loading processors!\n"
     ]
    }
   ],
   "source": [
    "df_train, df_test = cleaning()"
   ]
  },
  {
   "cell_type": "code",
   "execution_count": 8,
   "metadata": {},
   "outputs": [],
   "source": [
    "def score_normalize(x):\n",
    "    if x == 1:\n",
    "        return 2\n",
    "    if x == 0:\n",
    "        return 1\n",
    "    if x == -1:\n",
    "        return 0"
   ]
  },
  {
   "cell_type": "code",
   "execution_count": 14,
   "metadata": {
    "pycharm": {
     "is_executing": true,
     "name": "#%%\n"
    }
   },
   "outputs": [
    {
     "name": "stdout",
     "output_type": "stream",
     "text": [
      "Training\n"
     ]
    },
    {
     "name": "stderr",
     "output_type": "stream",
     "text": [
      "D:\\ProgramData\\Anaconda3\\envs\\SentiHIV\\lib\\site-packages\\sklearn\\feature_extraction\\text.py:1799: UserWarning: Only (<class 'numpy.float64'>, <class 'numpy.float32'>, <class 'numpy.float16'>) 'dtype' should be used. int32 'dtype' will be converted to np.float64.\n",
      "  UserWarning)\n"
     ]
    },
    {
     "name": "stdout",
     "output_type": "stream",
     "text": [
      "Train on 40808 samples, validate on 3786 samples\n",
      "Epoch 1/1000\n",
      "40808/40808 - 18s - loss: 0.8457 - acc: 0.6363 - val_loss: 0.6707 - val_acc: 0.7433\n",
      "Epoch 2/1000\n",
      "40808/40808 - 16s - loss: 0.5247 - acc: 0.8138 - val_loss: 0.5641 - val_acc: 0.7895\n",
      "Epoch 3/1000\n",
      "40808/40808 - 16s - loss: 0.4175 - acc: 0.8547 - val_loss: 0.5544 - val_acc: 0.7861\n",
      "Epoch 4/1000\n",
      "40808/40808 - 15s - loss: 0.3612 - acc: 0.8741 - val_loss: 0.5627 - val_acc: 0.7903\n",
      "Epoch 5/1000\n",
      "40808/40808 - 15s - loss: 0.3285 - acc: 0.8838 - val_loss: 0.5760 - val_acc: 0.7837\n",
      "Validation accuracy: 0.7836766839027405, loss: 0.576000353487723\n"
     ]
    },
    {
     "data": {
      "text/plain": [
       "(0.7836767, 0.576000353487723)"
      ]
     },
     "execution_count": 14,
     "metadata": {},
     "output_type": "execute_result"
    }
   ],
   "source": [
    "print(\"Training\")\n",
    "data = (df_train.text, df_train.score), (df_test.text, df_test.score)\n",
    "train_ngram_model(data, epochs=1000)\n"
   ]
  },
  {
   "cell_type": "code",
   "execution_count": null,
   "metadata": {
    "pycharm": {
     "name": "#%%\n"
    }
   },
   "outputs": [],
   "source": [
    "\n"
   ]
  }
 ],
 "metadata": {
  "kernelspec": {
   "display_name": "Python 3",
   "language": "python",
   "name": "python3"
  },
  "language_info": {
   "codemirror_mode": {
    "name": "ipython",
    "version": 3
   },
   "file_extension": ".py",
   "mimetype": "text/x-python",
   "name": "python",
   "nbconvert_exporter": "python",
   "pygments_lexer": "ipython3",
   "version": "3.7.9"
  }
 },
 "nbformat": 4,
 "nbformat_minor": 1
}
