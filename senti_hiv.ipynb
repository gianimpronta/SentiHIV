{
 "cells": [
  {
   "cell_type": "code",
   "execution_count": 89,
   "metadata": {
    "collapsed": true,
    "pycharm": {
     "is_executing": false
    }
   },
   "outputs": [
    {
     "name": "stderr",
     "text": [
      "[nltk_data] Downloading package stopwords to\n[nltk_data]     C:\\Users\\HC\\AppData\\Roaming\\nltk_data...\n[nltk_data]   Package stopwords is already up-to-date!\n"
     ],
     "output_type": "stream"
    }
   ],
   "source": [
    "import random\n",
    "import re\n",
    "import pandas as pd\n",
    "import numpy as np\n",
    "import sklearn as sk\n",
    "import nltk\n",
    "nltk.download('stopwords')\n",
    "from nltk.corpus import stopwords"
   ]
  },
  {
   "cell_type": "code",
   "execution_count": 105,
   "outputs": [],
   "source": [
    "def read():\n",
    "    return pd.read_csv(\"dataset/Corona_NLP_train.csv\"), pd.read_csv(\"dataset/Corona_NLP_test.csv\")\n",
    "\n",
    "def remove_urls(text):\n",
    "    url_remover = re.compile(r'https?://\\S+|www\\.\\S+')\n",
    "    return url_remover.sub(r'', text)   \n",
    "    \n",
    "def remove_html(text):\n",
    "    html_remover=re.compile(r'<.*?>')\n",
    "    return html_remover.sub(r'',text)\n",
    "\n",
    "def remove_mentions(text):\n",
    "    mention_remover=re.compile(r'@\\w+')\n",
    "    return mention_remover.sub(r'',text)\n",
    "\n",
    "def remove_numbers(text):\n",
    "    number_remover=re.compile(r'\\d+')\n",
    "    return number_remover.sub(r'',text)\n",
    "\n",
    "def remove_hashtags(text):\n",
    "    number_remover=re.compile(r'#\\w+')\n",
    "    return number_remover.sub(r'',text)\n",
    "\n",
    "def remove_punctuation(text):\n",
    "    punct_remover=re.compile(r'[^\\w\\s\\d]+')\n",
    "    return punct_remover.sub(r'',text)\n",
    "\n",
    "def remove_excessive_whitespace(text):\n",
    "    ws_remover=re.compile(r'\\s+')\n",
    "    return ws_remover.sub(r' ', str(text)).strip()\n",
    "\n",
    "def remove_stopwords(text):\n",
    "    stop_words = set(stopwords.words(\"english\"))     \n",
    "    return \" \".join([word for word in text.split(\" \") if word not in stop_words]) \n",
    "    \n",
    "def lowering(text):\n",
    "    return text.lower()\n",
    "\n",
    "\n",
    "\n",
    "\n",
    "def clean(df):\n",
    "    df = df.loc[:,[\"OriginalTweet\", \"Sentiment\"]]\n",
    "    scores = {\n",
    "        'Neutral': 0,     \n",
    "        'Extremely Negative':-1, \n",
    "        'Negative':-1,\n",
    "        'Positive':1,\n",
    "        'Extremely Positive':1\n",
    "    }\n",
    "    df[\"score\"] = df.Sentiment.apply(lambda x: scores[x])\n",
    "    df.drop(\"Sentiment\", inplace=True, axis=1)\n",
    "    df.rename({\"OriginalTweet\": \"text\"}, axis=1, inplace=True)\n",
    "    \n",
    "    df[\"text\"] = df.text.apply(lambda x: remove_urls(x))\n",
    "    df[\"text\"] = df.text.apply(lambda x: remove_mentions(x))\n",
    "    df[\"text\"] = df.text.apply(lambda x: remove_html(x))\n",
    "    df[\"text\"] = df.text.apply(lambda x: remove_numbers(x))\n",
    "    df[\"text\"] = df.text.apply(lambda x: remove_hashtags(x))\n",
    "    df[\"text\"] = df.text.apply(lambda x: remove_punctuation(x))\n",
    "    df[\"text\"] = df.text.apply(lambda x: remove_excessive_whitespace(x))\n",
    "    df[\"text\"] = df.text.apply(lambda x: remove_stopwords(x))\n",
    "    df[\"text\"] = df.text.apply(lambda x: lowering(x))\n",
    "    \n",
    "    return df\n",
    "\n",
    "def main():\n",
    "    df_train, df_test = read()\n",
    "    df_train = clean(df_train)\n",
    "    df_test = clean(df_test)\n",
    "    \n",
    "    print(df_train.head())\n",
    "    print(df_train.tail())\n",
    "    print(df_train.info())\n",
    "    print(df_train.describe())\n",
    "    return df_train, df_test\n",
    "    "
   ],
   "metadata": {
    "collapsed": false,
    "pycharm": {
     "name": "#%%\n",
     "is_executing": false
    }
   }
  },
  {
   "cell_type": "code",
   "execution_count": 106,
   "outputs": [
    {
     "name": "stdout",
     "text": [
      "                                                text  score\n0                                                         0\n1  advice talk neighbours family exchange phone n...      1\n2  coronavirus australia woolworths give elderly ...      1\n3  my food stock one empty please dont panic ther...      1\n4  me ready go supermarket outbreak not im parano...     -1\n                                                    text  score\n41152  airline pilots offering stock supermarket shel...      0\n41153  response complaint provided citing covid relat...     -1\n41154  you know getting tough rationing toilet paper ...      1\n41155        is wrong smell hand sanitizer starting turn      0\n41156  well newused rift s going amazon rn although n...     -1\n<class 'pandas.core.frame.DataFrame'>\nRangeIndex: 41157 entries, 0 to 41156\nData columns (total 2 columns):\n #   Column  Non-Null Count  Dtype \n---  ------  --------------  ----- \n 0   text    41157 non-null  object\n 1   score   41157 non-null  int64 \ndtypes: int64(1), object(1)\nmemory usage: 482.4+ KB\nNone\n              score\ncount  41157.000000\nmean       0.064339\nstd        0.899153\nmin       -1.000000\n25%       -1.000000\n50%        0.000000\n75%        1.000000\nmax        1.000000\n"
     ],
     "output_type": "stream"
    }
   ],
   "source": [
    "df_train, df_test = main()\n",
    "\n"
   ],
   "metadata": {
    "collapsed": false,
    "pycharm": {
     "name": "#%%\n",
     "is_executing": false
    }
   }
  },
  {
   "cell_type": "code",
   "execution_count": 107,
   "outputs": [
    {
     "data": {
      "text/plain": "                                                    text  score\n0                                                             0\n1      advice talk neighbours family exchange phone n...      1\n2      coronavirus australia woolworths give elderly ...      1\n3      my food stock one empty please dont panic ther...      1\n4      me ready go supermarket outbreak not im parano...     -1\n...                                                  ...    ...\n41152  airline pilots offering stock supermarket shel...      0\n41153  response complaint provided citing covid relat...     -1\n41154  you know getting tough rationing toilet paper ...      1\n41155        is wrong smell hand sanitizer starting turn      0\n41156  well newused rift s going amazon rn although n...     -1\n\n[41157 rows x 2 columns]",
      "text/html": "<div>\n<style scoped>\n    .dataframe tbody tr th:only-of-type {\n        vertical-align: middle;\n    }\n\n    .dataframe tbody tr th {\n        vertical-align: top;\n    }\n\n    .dataframe thead th {\n        text-align: right;\n    }\n</style>\n<table border=\"1\" class=\"dataframe\">\n  <thead>\n    <tr style=\"text-align: right;\">\n      <th></th>\n      <th>text</th>\n      <th>score</th>\n    </tr>\n  </thead>\n  <tbody>\n    <tr>\n      <th>0</th>\n      <td></td>\n      <td>0</td>\n    </tr>\n    <tr>\n      <th>1</th>\n      <td>advice talk neighbours family exchange phone n...</td>\n      <td>1</td>\n    </tr>\n    <tr>\n      <th>2</th>\n      <td>coronavirus australia woolworths give elderly ...</td>\n      <td>1</td>\n    </tr>\n    <tr>\n      <th>3</th>\n      <td>my food stock one empty please dont panic ther...</td>\n      <td>1</td>\n    </tr>\n    <tr>\n      <th>4</th>\n      <td>me ready go supermarket outbreak not im parano...</td>\n      <td>-1</td>\n    </tr>\n    <tr>\n      <th>...</th>\n      <td>...</td>\n      <td>...</td>\n    </tr>\n    <tr>\n      <th>41152</th>\n      <td>airline pilots offering stock supermarket shel...</td>\n      <td>0</td>\n    </tr>\n    <tr>\n      <th>41153</th>\n      <td>response complaint provided citing covid relat...</td>\n      <td>-1</td>\n    </tr>\n    <tr>\n      <th>41154</th>\n      <td>you know getting tough rationing toilet paper ...</td>\n      <td>1</td>\n    </tr>\n    <tr>\n      <th>41155</th>\n      <td>is wrong smell hand sanitizer starting turn</td>\n      <td>0</td>\n    </tr>\n    <tr>\n      <th>41156</th>\n      <td>well newused rift s going amazon rn although n...</td>\n      <td>-1</td>\n    </tr>\n  </tbody>\n</table>\n<p>41157 rows × 2 columns</p>\n</div>"
     },
     "metadata": {},
     "output_type": "execute_result",
     "execution_count": 107
    }
   ],
   "source": [],
   "metadata": {
    "collapsed": false,
    "pycharm": {
     "name": "#%%   \n",
     "is_executing": false
    }
   }
  }
 ],
 "metadata": {
  "kernelspec": {
   "display_name": "Python 3",
   "language": "python",
   "name": "python3"
  },
  "language_info": {
   "codemirror_mode": {
    "name": "ipython",
    "version": 2
   },
   "file_extension": ".py",
   "mimetype": "text/x-python",
   "name": "python",
   "nbconvert_exporter": "python",
   "pygments_lexer": "ipython2",
   "version": "2.7.6"
  },
  "pycharm": {
   "stem_cell": {
    "cell_type": "raw",
    "source": [],
    "metadata": {
     "collapsed": false
    }
   }
  }
 },
 "nbformat": 4,
 "nbformat_minor": 0
}