{
 "cells": [
  {
   "cell_type": "code",
   "execution_count": 1,
   "metadata": {
    "collapsed": true,
    "pycharm": {
     "is_executing": false
    }
   },
   "outputs": [
    {
     "name": "stderr",
     "text": [
      "[nltk_data] Downloading package stopwords to\n[nltk_data]     C:\\Users\\HC\\AppData\\Roaming\\nltk_data...\n[nltk_data]   Package stopwords is already up-to-date!\n"
     ],
     "output_type": "stream"
    }
   ],
   "source": [
    "import re\n",
    "import nltk\n",
    "import pandas as pd\n",
    "nltk.download('stopwords')\n",
    "from nltk.corpus import stopwords\n",
    "from sklearn.feature_extraction.text import TfidfVectorizer\n",
    "from sklearn.svm import LinearSVC\n",
    "from sklearn.metrics import confusion_matrix\n",
    "from sklearn import metrics\n",
    "import matplotlib.pyplot as plt\n",
    "import seaborn as sns"
   ]
  },
  {
   "cell_type": "code",
   "execution_count": 2,
   "outputs": [],
   "source": [
    "def read():\n",
    "    return pd.read_csv(\"dataset/Corona_NLP_train.csv\"), \\\n",
    "           pd.read_csv(\"dataset/Corona_NLP_test.csv\")\n",
    "\n",
    "def remove_urls(text):\n",
    "    url_remover = re.compile(r'https?://\\S+|www\\.\\S+')\n",
    "    return url_remover.sub(r'', text)   \n",
    "    \n",
    "def remove_html(text):\n",
    "    html_remover=re.compile(r'<.*?>')\n",
    "    return html_remover.sub(r'',text)\n",
    "\n",
    "def remove_mentions(text):\n",
    "    mention_remover=re.compile(r'@\\w+')\n",
    "    return mention_remover.sub(r'',text)\n",
    "\n",
    "def remove_numbers(text):\n",
    "    number_remover=re.compile(r'\\d+')\n",
    "    return number_remover.sub(r'',text)\n",
    "\n",
    "def remove_hashtags(text):\n",
    "    number_remover=re.compile(r'#\\w+')\n",
    "    return number_remover.sub(r'',text)\n",
    "\n",
    "def remove_punctuation(text):\n",
    "    punct_remover=re.compile(r'[^\\w\\s\\d]+')\n",
    "    return punct_remover.sub(r'',text)\n",
    "\n",
    "def remove_excessive_whitespace(text):\n",
    "    ws_remover=re.compile(r'\\s+')\n",
    "    return ws_remover.sub(r' ', str(text)).strip()\n",
    "\n",
    "def remove_stopwords(text):\n",
    "    stop_words = set(stopwords.words(\"english\"))     \n",
    "    return \" \".join([word for word in text.split(\" \") if word not in stop_words]) \n",
    "    \n",
    "def lowering(text):\n",
    "    return text.lower()\n",
    "\n",
    "def clean(df):\n",
    "    df = df.loc[:,[\"OriginalTweet\", \"Sentiment\"]]\n",
    "    scores = {\n",
    "        'Neutral': 0,     \n",
    "        'Extremely Negative':-1, \n",
    "        'Negative':-1,\n",
    "        'Positive':1,\n",
    "        'Extremely Positive':1\n",
    "    }\n",
    "    df[\"score\"] = df.Sentiment.apply(lambda x: scores[x])    \n",
    "    df[\"neutrality\"] = df.score.apply(lambda x: 1 if x == 0 else 0) \n",
    "    df.drop(\"Sentiment\", inplace=True, axis=1)\n",
    "    df.rename({\"OriginalTweet\": \"text\"}, axis=1, inplace=True)    \n",
    "    df[\"text\"] = df.text.apply(lambda x: remove_urls(x))\n",
    "    df[\"text\"] = df.text.apply(lambda x: remove_mentions(x))\n",
    "    df[\"text\"] = df.text.apply(lambda x: remove_html(x))\n",
    "    df[\"text\"] = df.text.apply(lambda x: remove_numbers(x))\n",
    "    df[\"text\"] = df.text.apply(lambda x: remove_hashtags(x))\n",
    "    df[\"text\"] = df.text.apply(lambda x: remove_punctuation(x))\n",
    "    df[\"text\"] = df.text.apply(lambda x: remove_excessive_whitespace(x))\n",
    "    df[\"text\"] = df.text.apply(lambda x: remove_stopwords(x))\n",
    "    df[\"text\"] = df.text.apply(lambda x: lowering(x))    \n",
    "    return df\n",
    "\n",
    "def cleaning():\n",
    "    train, test = read()\n",
    "    train = clean(train)\n",
    "    test = clean(test)    \n",
    "    return train, test    \n",
    "\n",
    "def trainning(df_train):\n",
    "    # Este é o algoritmo utilizado para vetorizar os textos dos tweets\n",
    "    # Precisa ser o mesmo tanto no df de treino quanto no df de teste\n",
    "    fitter = TfidfVectorizer(\n",
    "        sublinear_tf=True, \n",
    "        min_df=5, \n",
    "        stop_words='english'\n",
    "    ).fit(df_train.text)\n",
    "    X_train = fitter.transform(df_train.text)\n",
    "    y_train = df_train.neutrality\n",
    "    model = LinearSVC()\n",
    "    model.fit(X_train, y_train)\n",
    "    \n",
    "    df2_train = df_train[df_train.neutrality == 0]\n",
    "    fitter2 = TfidfVectorizer(\n",
    "        sublinear_tf=True, \n",
    "        min_df=5, \n",
    "        stop_words='english'\n",
    "    ).fit(df2_train.text)\n",
    "    \n",
    "    X_train = fitter2.transform(df2_train.text)\n",
    "    y_train = df2_train.score\n",
    "    model2 = LinearSVC()\n",
    "    model2.fit(X_train, y_train)\n",
    "    return model, model2, fitter, fitter2\n",
    "\n",
    "def testing(models, fitters, df_test):\n",
    "    X_test = fitters[0].transform(df_test.text)\n",
    "    y_test = df_test.neutrality\n",
    "    y_pred = models[0].predict(X_test)\n",
    "    print('CLASSIFICATION METRICS - NEUTRALITY\\n')\n",
    "    print(metrics.classification_report(\n",
    "        y_test, \n",
    "        y_pred,\n",
    "        target_names=['Not neutral','Neutral']\n",
    "    ))\n",
    "    conf_mat = confusion_matrix(y_test, y_pred)\n",
    "    fig, ax = plt.subplots(figsize=(8,8))\n",
    "    sns.heatmap(conf_mat, annot=True, cmap=\"Blues\", fmt='d',\n",
    "                xticklabels=['Not neutral','Neutral'], \n",
    "                yticklabels=['Not neutral','Neutral']\n",
    "                )\n",
    "    plt.ylabel('Actual')\n",
    "    plt.xlabel('Predicted')\n",
    "    plt.title(\"CONFUSION MATRIX - NEUTRALITY - LinearSVC\\n\", size=16);\n",
    "    \n",
    "    df2_test = df_test[y_pred == 0]\n",
    "    X_test = fitters[1].transform(df2_test.text)\n",
    "    y_test = df2_test.score\n",
    "    y_pred = models[1].predict(X_test)\n",
    "    print('CLASSIFICATION METRICS NEUTRALITY\\n')\n",
    "    print(metrics.classification_report(\n",
    "        y_test, \n",
    "        y_pred,\n",
    "        # target_names=['Negative','Positive']\n",
    "    ))\n",
    "    \n",
    "    #%%\n",
    "    conf_mat = confusion_matrix(y_test, y_pred)\n",
    "    fig, ax = plt.subplots(figsize=(8,8))\n",
    "    sns.heatmap(conf_mat, annot=True, cmap=\"Blues\", fmt='d',\n",
    "                # xticklabels=['Negative','Positive'], \n",
    "                # yticklabels=['Negative','Positive']\n",
    "                )\n",
    "    plt.ylabel('Actual')\n",
    "    plt.xlabel('Predicted')\n",
    "    plt.title(\"CONFUSION MATRIX - LinearSVC\\n\", size=16);\n",
    "\n",
    "def main():\n",
    "    df_train, df_test = cleaning()\n",
    "    model, model2, tfidf_fitter, tfidf_fitter2 = trainning(df_train)\n",
    "    testing([model, model2], [tfidf_fitter, tfidf_fitter2], df_test)"
   ],
   "metadata": {
    "collapsed": false,
    "pycharm": {
     "name": "#%%\n",
     "is_executing": false
    }
   }
  },
  {
   "cell_type": "code",
   "execution_count": 3,
   "outputs": [
    {
     "name": "stdout",
     "text": [
      "CLASSIFICATION METRICS - NEUTRALITY\n\n              precision    recall  f1-score   support\n\n Not neutral       0.93      0.95      0.94      3179\n     Neutral       0.71      0.61      0.66       619\n\n    accuracy                           0.90      3798\n   macro avg       0.82      0.78      0.80      3798\nweighted avg       0.89      0.90      0.89      3798\n\n",
      "CLASSIFICATION METRICS NEUTRALITY\n\n              precision    recall  f1-score   support\n\n          -1       0.80      0.85      0.83      1539\n           0       0.00      0.00      0.00       241\n           1       0.80      0.88      0.83      1483\n\n    accuracy                           0.80      3263\n   macro avg       0.53      0.58      0.55      3263\nweighted avg       0.74      0.80      0.77      3263\n\n"
     ],
     "output_type": "stream"
    },
    {
     "name": "stderr",
     "text": [
      "c:\\users\\hc\\.virtualenvs\\sentihiv-1mniukwm\\lib\\site-packages\\sklearn\\metrics\\_classification.py:1221: UndefinedMetricWarning: Precision and F-score are ill-defined and being set to 0.0 in labels with no predicted samples. Use `zero_division` parameter to control this behavior.\n  _warn_prf(average, modifier, msg_start, len(result))\n"
     ],
     "output_type": "stream"
    },
    {
     "data": {
      "text/plain": "<Figure size 576x576 with 2 Axes>",
      "image/png": "[encoded data removed]"
     },
     "metadata": {
      "needs_background": "light"
     },
     "output_type": "display_data"
    },
    {
     "data": {
      "text/plain": "<Figure size 576x576 with 2 Axes>",
      "image/png": "[encoded data removed]"
     },
     "metadata": {
      "needs_background": "light"
     },
     "output_type": "display_data"
    }
   ],
   "source": [
    "main()\n"
   ],
   "metadata": {
    "collapsed": false,
    "pycharm": {
     "name": "#%%\n",
     "is_executing": false
    }
   }
  }
 ],
 "metadata": {
  "kernelspec": {
   "display_name": "Python 3",
   "language": "python",
   "name": "python3"
  },
  "language_info": {
   "codemirror_mode": {
    "name": "ipython",
    "version": 2
   },
   "file_extension": ".py",
   "mimetype": "text/x-python",
   "name": "python",
   "nbconvert_exporter": "python",
   "pygments_lexer": "ipython2",
   "version": "2.7.6"
  },
  "pycharm": {
   "stem_cell": {
    "cell_type": "raw",
    "source": [],
    "metadata": {
     "collapsed": false
    }
   }
  }
 },
 "nbformat": 4,
 "nbformat_minor": 0
}