{
 "cells": [
  {
   "cell_type": "code",
   "execution_count": null,
   "metadata": {
    "collapsed": true,
    "pycharm": {
     "is_executing": true
    }
   },
   "outputs": [
    {
     "name": "stderr",
     "text": [
      "[nltk_data] Downloading package stopwords to\n[nltk_data]     C:\\Users\\HC\\AppData\\Roaming\\nltk_data...\n",
      "[nltk_data]   Package stopwords is already up-to-date!\n"
     ],
     "output_type": "stream"
    }
   ],
   "source": [
    "import re\n",
    "\n",
    "import nltk\n",
    "nltk.download('stopwords')\n",
    "import pandas as pd\n",
    "import matplotlib.pyplot as plt\n",
    "import seaborn as sns\n",
    "import stanza\n",
    "\n",
    "from nltk.corpus import stopwords\n",
    "from sklearn.feature_extraction.text import TfidfVectorizer\n",
    "from sklearn.svm import LinearSVC\n",
    "from sklearn.metrics import confusion_matrix, classification_report"
   ]
  },
  {
   "cell_type": "code",
   "execution_count": null,
   "outputs": [],
   "source": [
    "def read():\n",
    "    return pd.read_csv(\"dataset/Corona_NLP_train.csv\"), \\\n",
    "           pd.read_csv(\"dataset/Corona_NLP_test.csv\")\n",
    "    # df = pd.read_csv('dataset/Covid BR Tweets/opcovidbr.csv', index_col='Id')\n",
    "    \n",
    "    # return train_test_split(df, test_size=0.2, random_state=123)\n",
    "\n",
    "def remove_urls(text):\n",
    "    url_remover = re.compile(r'https?://\\S+|www\\.\\S+')\n",
    "    return url_remover.sub(r'', text)   \n",
    "    \n",
    "def remove_html(text):\n",
    "    html_remover=re.compile(r'<.*?>')\n",
    "    return html_remover.sub(r'',text)\n",
    "\n",
    "def remove_mentions(text):\n",
    "    mention_remover=re.compile(r'@\\w+')\n",
    "    return mention_remover.sub(r'',text)\n",
    "\n",
    "def remove_numbers(text):\n",
    "    number_remover=re.compile(r'\\d+')\n",
    "    return number_remover.sub(r'',text)\n",
    "\n",
    "def remove_hashtags(text):\n",
    "    number_remover=re.compile(r'#\\w+')\n",
    "    return number_remover.sub(r'',text)\n",
    "\n",
    "def remove_punctuation(text):\n",
    "    punct_remover=re.compile(r'[^\\w\\s\\d]+')\n",
    "    return punct_remover.sub(r'',text)\n",
    "\n",
    "def remove_excessive_whitespace(text):\n",
    "    ws_remover=re.compile(r'\\s+')\n",
    "    return ws_remover.sub(r' ', str(text)).strip()\n",
    "\n",
    "def remove_stopwords(text):\n",
    "    stop_words = set(stopwords.words(\"english\"))     \n",
    "    # stop_words = set(stopwords.words('portuguese'))     \n",
    "    return \" \".join([word for word in text.split(\" \") if word not in stop_words]) \n",
    "    \n",
    "def lowering(text):\n",
    "    return text.lower()\n",
    "\n",
    "def lemmatization(text, nlp):\n",
    "    doc = nlp(text)\n",
    "    return ' '.join([f'{word.lemma}' for sent in doc.sentences for word in \\\n",
    "            sent.words])\n",
    "\n",
    "def clean(df):\n",
    "    df = df.loc[:,[\"OriginalTweet\", \"Sentiment\"]]\n",
    "    scores = {\n",
    "        'Neutral': 0,     \n",
    "        'Extremely Negative':-1, \n",
    "        'Negative':-1,\n",
    "        'Positive':1,\n",
    "        'Extremely Positive':1\n",
    "    }\n",
    "    \n",
    "    df[\"score\"] = df.Sentiment.apply(lambda x: scores[x])\n",
    "    df.drop(\"Sentiment\", inplace=True, axis=1)\n",
    "    \n",
    "    # df = df.loc[:,[\"twitter\", \"polarity\"]]\n",
    "    # df[\"score\"] = df.polarity\n",
    "    df[\"text\"] = df.twitter    \n",
    "    df[\"text\"] = df.text.apply(lambda x: remove_urls(x))\n",
    "    df[\"text\"] = df.text.apply(lambda x: remove_mentions(x))\n",
    "    df[\"text\"] = df.text.apply(lambda x: remove_html(x))\n",
    "    df[\"text\"] = df.text.apply(lambda x: remove_numbers(x))\n",
    "    df[\"text\"] = df.text.apply(lambda x: remove_hashtags(x))\n",
    "    df[\"text\"] = df.text.apply(lambda x: remove_punctuation(x))\n",
    "    df[\"text\"] = df.text.apply(lambda x: remove_excessive_whitespace(x))\n",
    "    df[\"text\"] = df.text.apply(lambda x: remove_stopwords(x))\n",
    "    df[\"text\"] = df.text.apply(lambda x: lowering(x))\n",
    "    nlp = stanza.Pipeline(lang='pt', processors='tokenize,mwt,pos,lemma')\n",
    "    df[\"text\"] = df.text.apply(lambda x: lemmatization(x, nlp))\n",
    "    \n",
    "    # Removing messages that are too short.\n",
    "    df = df[df.text.apply(lambda x: len(x) > 2)]   \n",
    "    \n",
    "    return df\n",
    "\n",
    "def cleaning():\n",
    "    df_train, df_test = read()\n",
    "    df_train = clean(df_train)\n",
    "    df_test = clean(df_test)\n",
    "    \n",
    "    return df_train, df_test"
   ],
   "metadata": {
    "collapsed": false,
    "pycharm": {
     "name": "#%%\n",
     "is_executing": true
    }
   }
  },
  {
   "cell_type": "code",
   "execution_count": null,
   "outputs": [],
   "source": [
    "df_train, df_test = cleaning()"
   ],
   "metadata": {
    "collapsed": false,
    "pycharm": {
     "name": "#%%\n",
     "is_executing": true
    }
   }
  },
  {
   "cell_type": "code",
   "execution_count": null,
   "outputs": [],
   "source": [
    "# Este é o algoritmo utilizado para vetorizar os textos dos tweets\n",
    "# Precisa ser o mesmo tanto no df de treino quanto no df de teste\n",
    "tfidf_fitter = TfidfVectorizer(\n",
    "    sublinear_tf=True, \n",
    "    min_df=5\n",
    ").fit(df_train.text)\n",
    "X_train = tfidf_fitter.transform(df_train.text)\n",
    "y_train = df_train.score\n",
    "X_test = tfidf_fitter.transform(df_test.text)\n",
    "y_test = df_test.score"
   ],
   "metadata": {
    "collapsed": false,
    "pycharm": {
     "name": "#%%\n",
     "is_executing": true
    }
   }
  },
  {
   "cell_type": "code",
   "execution_count": null,
   "outputs": [],
   "source": [
    "model =  LinearSVC(verbose=1, max_iter=500, \n",
    "                   penalty='l1', loss='squared_hinge',\n",
    "                   dual=False)\n",
    "model.fit(X_train, y_train)\n",
    "y_pred = model.predict(X_test)"
   ],
   "metadata": {
    "collapsed": false,
    "pycharm": {
     "name": "#%%\n",
     "is_executing": true
    }
   }
  },
  {
   "cell_type": "code",
   "execution_count": null,
   "outputs": [],
   "source": [
    "print('CLASSIFICATION METRICS\\n')\n",
    "print(classification_report(\n",
    "    y_test, \n",
    "    y_pred,\n",
    "    target_names=['Negative','Neutral','Positive']\n",
    "))\n",
    "\n",
    "conf_mat = confusion_matrix(y_test, y_pred)\n",
    "fig, ax = plt.subplots(figsize=(8,8))\n",
    "sns.heatmap(conf_mat, annot=True, cmap=\"Blues\", fmt='d',\n",
    "            xticklabels=['Negative','Neutral','Positive'], \n",
    "            yticklabels=['Negative','Neutral','Positive']\n",
    "            )\n",
    "plt.ylabel('Actual')\n",
    "plt.xlabel('Predicted')\n",
    "plt.title(\"CONFUSION MATRIX - LinearSVC\\n\", size=16);"
   ],
   "metadata": {
    "collapsed": false,
    "pycharm": {
     "name": "#%%\n",
     "is_executing": true
    }
   }
  },
  {
   "cell_type": "code",
   "execution_count": null,
   "outputs": [],
   "source": [
    "\n"
   ],
   "metadata": {
    "collapsed": false,
    "pycharm": {
     "name": "#%%\n",
     "is_executing": true
    }
   }
  }
 ],
 "metadata": {
  "kernelspec": {
   "display_name": "Python 3",
   "language": "python",
   "name": "python3"
  },
  "language_info": {
   "codemirror_mode": {
    "name": "ipython",
    "version": 2
   },
   "file_extension": ".py",
   "mimetype": "text/x-python",
   "name": "python",
   "nbconvert_exporter": "python",
   "pygments_lexer": "ipython2",
   "version": "2.7.6"
  },
  "pycharm": {
   "stem_cell": {
    "cell_type": "raw",
    "source": [],
    "metadata": {
     "collapsed": false
    }
   }
  }
 },
 "nbformat": 4,
 "nbformat_minor": 0
}