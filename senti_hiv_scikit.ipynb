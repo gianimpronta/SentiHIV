{
 "cells": [
  {
   "cell_type": "code",
   "execution_count": 46,
   "metadata": {
    "collapsed": true,
    "pycharm": {
     "is_executing": false
    }
   },
   "outputs": [
    {
     "name": "stderr",
     "text": [
      "[nltk_data] Downloading package stopwords to\n[nltk_data]     C:\\Users\\HC\\AppData\\Roaming\\nltk_data...\n[nltk_data]   Package stopwords is already up-to-date!\n"
     ],
     "output_type": "stream"
    }
   ],
   "source": [
    "import re\n",
    "\n",
    "import nltk\n",
    "nltk.download('stopwords')\n",
    "import pandas as pd\n",
    "import matplotlib.pyplot as plt\n",
    "import seaborn as sns\n",
    "import numpy as np\n",
    "\n",
    "from nltk.corpus import stopwords\n",
    "from sklearn.feature_extraction.text import TfidfVectorizer\n",
    "from sklearn.svm import LinearSVC\n",
    "from sklearn.metrics import confusion_matrix, classification_report\n",
    "from sklearn.model_selection import train_test_split"
   ]
  },
  {
   "cell_type": "code",
   "execution_count": 43,
   "outputs": [],
   "source": [
    "def read():\n",
    "    # return pd.read_csv(\"dataset/Corona_NLP_train.csv\"), \\\n",
    "    #        pd.read_csv(\"dataset/Corona_NLP_test.csv\")\n",
    "    df = pd.read_csv('dataset/Covid BR Tweets/opcovidbr.csv', index_col='Id')\n",
    "    X_train, X_test, y_train, y_test = train_test_split(df, test_size=0.2, random_state=123)\n",
    "    \n",
    "    return \n",
    "\n",
    "def remove_urls(text):\n",
    "    url_remover = re.compile(r'https?://\\S+|www\\.\\S+')\n",
    "    return url_remover.sub(r'', text)   \n",
    "    \n",
    "def remove_html(text):\n",
    "    html_remover=re.compile(r'<.*?>')\n",
    "    return html_remover.sub(r'',text)\n",
    "\n",
    "def remove_mentions(text):\n",
    "    mention_remover=re.compile(r'@\\w+')\n",
    "    return mention_remover.sub(r'',text)\n",
    "\n",
    "def remove_numbers(text):\n",
    "    number_remover=re.compile(r'\\d+')\n",
    "    return number_remover.sub(r'',text)\n",
    "\n",
    "def remove_hashtags(text):\n",
    "    number_remover=re.compile(r'#\\w+')\n",
    "    return number_remover.sub(r'',text)\n",
    "\n",
    "def remove_punctuation(text):\n",
    "    punct_remover=re.compile(r'[^\\w\\s\\d]+')\n",
    "    return punct_remover.sub(r'',text)\n",
    "\n",
    "def remove_excessive_whitespace(text):\n",
    "    ws_remover=re.compile(r'\\s+')\n",
    "    return ws_remover.sub(r' ', str(text)).strip()\n",
    "\n",
    "def remove_stopwords(text):\n",
    "    # stop_words = set(stopwords.words(\"english\"))     \n",
    "    stop_words = set(stopwords.words('portuguese'))     \n",
    "    return \" \".join([word for word in text.split(\" \") if word not in stop_words]) \n",
    "    \n",
    "def lowering(text):\n",
    "    return text.lower()\n",
    "\n",
    "def clean(df):\n",
    "    df = df.loc[:,[\"OriginalTweet\", \"Sentiment\"]]\n",
    "    scores = {\n",
    "        'Neutral': 0,     \n",
    "        'Extremely Negative':-1, \n",
    "        'Negative':-1,\n",
    "        'Positive':1,\n",
    "        'Extremely Positive':1\n",
    "    }\n",
    "    df[\"score\"] = df.Sentiment.apply(lambda x: scores[x])\n",
    "    df.drop(\"Sentiment\", inplace=True, axis=1)\n",
    "    df[\"text\"] = df.OriginalTweet    \n",
    "    df[\"text\"] = df.text.apply(lambda x: remove_urls(x))\n",
    "    df[\"text\"] = df.text.apply(lambda x: remove_mentions(x))\n",
    "    df[\"text\"] = df.text.apply(lambda x: remove_html(x))\n",
    "    df[\"text\"] = df.text.apply(lambda x: remove_numbers(x))\n",
    "    df[\"text\"] = df.text.apply(lambda x: remove_hashtags(x))\n",
    "    df[\"text\"] = df.text.apply(lambda x: remove_punctuation(x))\n",
    "    df[\"text\"] = df.text.apply(lambda x: remove_excessive_whitespace(x))\n",
    "    df[\"text\"] = df.text.apply(lambda x: remove_stopwords(x))\n",
    "    df[\"text\"] = df.text.apply(lambda x: lowering(x))\n",
    "    \n",
    "    # Removing messages that are too short.\n",
    "    df = df[df.text.apply(lambda x: len(x) > 20)]   \n",
    "    \n",
    "    return df\n",
    "\n",
    "def cleaning():\n",
    "    df_train, df_test = read()\n",
    "    df_train = clean(df_train)\n",
    "    df_test = clean(df_test)\n",
    "    \n",
    "    return df_train, df_test"
   ],
   "metadata": {
    "collapsed": false,
    "pycharm": {
     "name": "#%%\n",
     "is_executing": false
    }
   }
  },
  {
   "cell_type": "code",
   "execution_count": 48,
   "outputs": [],
   "source": [
    "df = pd.read_csv('dataset/Covid BR Tweets/opcovidbr.csv', index_col='Id')\n",
    "df_train, df_test = train_test_split(df, test_size=0.2, random_state=123)\n"
   ],
   "metadata": {
    "collapsed": false,
    "pycharm": {
     "name": "#%%\n",
     "is_executing": false
    }
   }
  },
  {
   "cell_type": "code",
   "execution_count": 50,
   "outputs": [
    {
     "data": {
      "text/plain": "(121, 6)"
     },
     "metadata": {},
     "output_type": "execute_result",
     "execution_count": 50
    }
   ],
   "source": [
    "df_train.shape\n",
    "df_test.shape"
   ],
   "metadata": {
    "collapsed": false,
    "pycharm": {
     "name": "#%%\n",
     "is_executing": false
    }
   }
  },
  {
   "cell_type": "code",
   "execution_count": 3,
   "outputs": [],
   "source": [
    "df_train, df_test = cleaning()"
   ],
   "metadata": {
    "collapsed": false,
    "pycharm": {
     "name": "#%%\n",
     "is_executing": false
    }
   }
  },
  {
   "cell_type": "code",
   "execution_count": 4,
   "outputs": [],
   "source": [
    "# Este é o algoritmo utilizado para vetorizar os textos dos tweets\n",
    "# Precisa ser o mesmo tanto no df de treino quanto no df de teste\n",
    "tfidf_fitter = TfidfVectorizer(\n",
    "    sublinear_tf=True, \n",
    "    min_df=5, \n",
    "    stop_words='english'\n",
    ").fit(df_train.text)\n",
    "X_train = tfidf_fitter.transform(df_train.text)\n",
    "y_train = df_train.score\n",
    "X_test = tfidf_fitter.transform(df_test.text)\n",
    "y_test = df_test.score"
   ],
   "metadata": {
    "collapsed": false,
    "pycharm": {
     "name": "#%%\n",
     "is_executing": false
    }
   }
  },
  {
   "cell_type": "code",
   "execution_count": 5,
   "outputs": [
    {
     "name": "stdout",
     "text": [
      "[LibLinear]"
     ],
     "output_type": "stream"
    }
   ],
   "source": [
    "model =  LinearSVC(verbose=1, max_iter=500, \n",
    "                   penalty='l1', loss='squared_hinge',\n",
    "                   dual=False)\n",
    "model.fit(X_train, y_train)\n",
    "y_pred = model.predict(X_test)"
   ],
   "metadata": {
    "collapsed": false,
    "pycharm": {
     "name": "#%%\n",
     "is_executing": false
    }
   }
  },
  {
   "cell_type": "code",
   "execution_count": 6,
   "outputs": [
    {
     "name": "stdout",
     "text": [
      "CLASSIFICATION METRICS\n\n              precision    recall  f1-score   support\n\n    Negative       0.86      0.82      0.84      1632\n     Neutral       0.71      0.75      0.73       593\n    Positive       0.85      0.86      0.85      1541\n\n    accuracy                           0.83      3766\n   macro avg       0.80      0.81      0.81      3766\nweighted avg       0.83      0.83      0.83      3766\n\n"
     ],
     "output_type": "stream"
    },
    {
     "data": {
      "text/plain": "<Figure size 576x576 with 2 Axes>",
      "image/png": "[encoded data removed]"
     },
     "metadata": {
      "needs_background": "light"
     },
     "output_type": "display_data"
    }
   ],
   "source": [
    "print('CLASSIFICATION METRICS\\n')\n",
    "print(classification_report(\n",
    "    y_test, \n",
    "    y_pred,\n",
    "    target_names=['Negative','Neutral','Positive']\n",
    "))\n",
    "\n",
    "conf_mat = confusion_matrix(y_test, y_pred)\n",
    "fig, ax = plt.subplots(figsize=(8,8))\n",
    "sns.heatmap(conf_mat, annot=True, cmap=\"Blues\", fmt='d',\n",
    "            xticklabels=['Negative','Neutral','Positive'], \n",
    "            yticklabels=['Negative','Neutral','Positive']\n",
    "            )\n",
    "plt.ylabel('Actual')\n",
    "plt.xlabel('Predicted')\n",
    "plt.title(\"CONFUSION MATRIX - LinearSVC\\n\", size=16);"
   ],
   "metadata": {
    "collapsed": false,
    "pycharm": {
     "name": "#%%\n",
     "is_executing": false
    }
   }
  },
  {
   "cell_type": "code",
   "execution_count": null,
   "outputs": [],
   "source": [
    "\n"
   ],
   "metadata": {
    "collapsed": false,
    "pycharm": {
     "name": "#%%\n"
    }
   }
  }
 ],
 "metadata": {
  "kernelspec": {
   "display_name": "Python 3",
   "language": "python",
   "name": "python3"
  },
  "language_info": {
   "codemirror_mode": {
    "name": "ipython",
    "version": 2
   },
   "file_extension": ".py",
   "mimetype": "text/x-python",
   "name": "python",
   "nbconvert_exporter": "python",
   "pygments_lexer": "ipython2",
   "version": "2.7.6"
  },
  "pycharm": {
   "stem_cell": {
    "cell_type": "raw",
    "source": [],
    "metadata": {
     "collapsed": false
    }
   }
  }
 },
 "nbformat": 4,
 "nbformat_minor": 0
}